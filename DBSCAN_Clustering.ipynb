{
  "nbformat": 4,
  "nbformat_minor": 0,
  "metadata": {
    "colab": {
      "provenance": [],
      "authorship_tag": "ABX9TyMU8qfRSXVtmInepliDzfGZ",
      "include_colab_link": true
    },
    "kernelspec": {
      "name": "python3",
      "display_name": "Python 3"
    },
    "language_info": {
      "name": "python"
    }
  },
  "cells": [
    {
      "cell_type": "markdown",
      "metadata": {
        "id": "view-in-github",
        "colab_type": "text"
      },
      "source": [
        "<a href=\"https://colab.research.google.com/github/DininduChamikara/DBSCAN-clustering-test/blob/main/DBSCAN_Clustering.ipynb\" target=\"_parent\"><img src=\"https://colab.research.google.com/assets/colab-badge.svg\" alt=\"Open In Colab\"/></a>"
      ]
    },
    {
      "cell_type": "code",
      "execution_count": null,
      "metadata": {
        "id": "SEqj07fGTlus"
      },
      "outputs": [],
      "source": [
        "data = [{('ශ්\\u200dරී ලංකා', 'LOCATION'), ('ඉන්දීය', 'LOCATION'), ('ලංකා', 'LOCATION'), ('20/20', 'DATE'), ('ආසියානු', 'LOCATION'), ('ඉන්දියාව', 'LOCATION')}, {('රාජ්කොට් සෞරාෂ්ට්\\u200dර ක්\\u200dරිකට්', 'LOCATION')}, {('ඉන්දීය', 'LOCATION'), ('හර්දික් පාණ්ඩ්\\u200dයා', 'PERSON')}, {('ඉන්දීය', 'LOCATION'), ('ශ්\\u200dරී ලංකාවට', 'LOCATION'), ('ලංකාවට', 'LOCATION')}, {('ඉන්දීය', 'LOCATION'), ('සූර්යකුමාර් යාදව්', 'PERSON'), ('සූර්යකුමාර්', 'PERSON')}, {('21.19.60', 'DATE'), ('සූර්යකුමාර්', 'PERSON'), ('සූර්යකුමාර් යාද්ව්ගේ', 'PERSON'), ('වාර්තා', 'DATE')}, {('ශුබ්මන් ගිල්', 'PERSON')}, {('ශ්\\u200dරී ලංකා', 'LOCATION'), ('ඉන්දීය', 'LOCATION'), ('ලංකා', 'LOCATION'), ('ක්\\u200dරීඩා', 'LOCATION'), ('පිළිතුරු', 'LOCATION'), ('මෙන්ඩිස්', 'ORGANIZATION')}, {('ශ්\\u200dරී ලංකා', 'LOCATION'), ('ඉන්දීය', 'LOCATION'), ('ලංකා', 'LOCATION')}, {('කුසල් මෙන්ඩිස්', 'PERSON'), ('දසුන් ශානක', 'PERSON'), ('දසුන්', 'PERSON')}, {('දසුන්ගේ', 'PERSON')}, {('ඉන්දියාවට', 'LOCATION')}, {('ශ්\\u200dරී ලංකා', 'LOCATION'), ('ලංකා', 'LOCATION'), ('ක්\\u200dරීඩකයින්', 'LOCATION'), ('පුවරුව', 'TIME')}, {('සූර්යකුමාර් යාදව්', 'PERSON'), ('සූර්යකුමාර්', 'PERSON'), ('අක්සාර් පටෙල්', 'PERSON')}, {('ඉන්දියාවට', 'LOCATION'), ('දසුන්ගෙ', 'PERSON'), ('දසුන්ගෙන්', 'PERSON')}]"
      ]
    },
    {
      "cell_type": "code",
      "source": [
        "import pandas as pd"
      ],
      "metadata": {
        "id": "BVh6Im0aZOEI"
      },
      "execution_count": null,
      "outputs": []
    },
    {
      "cell_type": "code",
      "source": [
        "import seaborn as sns"
      ],
      "metadata": {
        "id": "IJoJ-SfTmCK7"
      },
      "execution_count": null,
      "outputs": []
    },
    {
      "cell_type": "code",
      "source": [
        "!pip install nltk\n",
        "!pip install gensim"
      ],
      "metadata": {
        "colab": {
          "base_uri": "https://localhost:8080/"
        },
        "id": "oVSqOK_DqOFv",
        "outputId": "07c7ead3-c7d7-4229-db6e-15e7ea85c833"
      },
      "execution_count": null,
      "outputs": [
        {
          "output_type": "stream",
          "name": "stdout",
          "text": [
            "Requirement already satisfied: nltk in /usr/local/lib/python3.10/dist-packages (3.8.1)\n",
            "Requirement already satisfied: click in /usr/local/lib/python3.10/dist-packages (from nltk) (8.1.7)\n",
            "Requirement already satisfied: joblib in /usr/local/lib/python3.10/dist-packages (from nltk) (1.3.2)\n",
            "Requirement already satisfied: regex>=2021.8.3 in /usr/local/lib/python3.10/dist-packages (from nltk) (2023.6.3)\n",
            "Requirement already satisfied: tqdm in /usr/local/lib/python3.10/dist-packages (from nltk) (4.66.1)\n",
            "Requirement already satisfied: gensim in /usr/local/lib/python3.10/dist-packages (4.3.2)\n",
            "Requirement already satisfied: numpy>=1.18.5 in /usr/local/lib/python3.10/dist-packages (from gensim) (1.23.5)\n",
            "Requirement already satisfied: scipy>=1.7.0 in /usr/local/lib/python3.10/dist-packages (from gensim) (1.11.4)\n",
            "Requirement already satisfied: smart-open>=1.8.1 in /usr/local/lib/python3.10/dist-packages (from gensim) (6.4.0)\n"
          ]
        }
      ]
    },
    {
      "cell_type": "code",
      "source": [
        "from nltk.tokenize import sent_tokenize, word_tokenize\n",
        "import warnings\n",
        "\n",
        "warnings.filterwarnings(action = 'ignore')\n",
        "\n",
        "import gensim\n",
        "from gensim.models import Word2Vec"
      ],
      "metadata": {
        "id": "GeAofEgIqgXE"
      },
      "execution_count": null,
      "outputs": []
    },
    {
      "cell_type": "code",
      "source": [
        "data"
      ],
      "metadata": {
        "colab": {
          "base_uri": "https://localhost:8080/"
        },
        "id": "Gc3tXi7-UXGv",
        "outputId": "adae2dd3-981c-4e7c-9f3f-07b9551933db"
      },
      "execution_count": null,
      "outputs": [
        {
          "output_type": "execute_result",
          "data": {
            "text/plain": [
              "[{('20/20', 'DATE'),\n",
              "  ('ආසියානු', 'LOCATION'),\n",
              "  ('ඉන්දියාව', 'LOCATION'),\n",
              "  ('ඉන්දීය', 'LOCATION'),\n",
              "  ('ලංකා', 'LOCATION'),\n",
              "  ('ශ්\\u200dරී ලංකා', 'LOCATION')},\n",
              " {('රාජ්කොට් සෞරාෂ්ට්\\u200dර ක්\\u200dරිකට්', 'LOCATION')},\n",
              " {('ඉන්දීය', 'LOCATION'), ('හර්දික් පාණ්ඩ්\\u200dයා', 'PERSON')},\n",
              " {('ඉන්දීය', 'LOCATION'),\n",
              "  ('ලංකාවට', 'LOCATION'),\n",
              "  ('ශ්\\u200dරී ලංකාවට', 'LOCATION')},\n",
              " {('ඉන්දීය', 'LOCATION'),\n",
              "  ('සූර්යකුමාර්', 'PERSON'),\n",
              "  ('සූර්යකුමාර් යාදව්', 'PERSON')},\n",
              " {('21.19.60', 'DATE'),\n",
              "  ('වාර්තා', 'DATE'),\n",
              "  ('සූර්යකුමාර්', 'PERSON'),\n",
              "  ('සූර්යකුමාර් යාද්ව්ගේ', 'PERSON')},\n",
              " {('ශුබ්මන් ගිල්', 'PERSON')},\n",
              " {('ඉන්දීය', 'LOCATION'),\n",
              "  ('ක්\\u200dරීඩා', 'LOCATION'),\n",
              "  ('පිළිතුරු', 'LOCATION'),\n",
              "  ('මෙන්ඩිස්', 'ORGANIZATION'),\n",
              "  ('ලංකා', 'LOCATION'),\n",
              "  ('ශ්\\u200dරී ලංකා', 'LOCATION')},\n",
              " {('ඉන්දීය', 'LOCATION'),\n",
              "  ('ලංකා', 'LOCATION'),\n",
              "  ('ශ්\\u200dරී ලංකා', 'LOCATION')},\n",
              " {('කුසල් මෙන්ඩිස්', 'PERSON'), ('දසුන්', 'PERSON'), ('දසුන් ශානක', 'PERSON')},\n",
              " {('දසුන්ගේ', 'PERSON')},\n",
              " {('ඉන්දියාවට', 'LOCATION')},\n",
              " {('ක්\\u200dරීඩකයින්', 'LOCATION'),\n",
              "  ('පුවරුව', 'TIME'),\n",
              "  ('ලංකා', 'LOCATION'),\n",
              "  ('ශ්\\u200dරී ලංකා', 'LOCATION')},\n",
              " {('අක්සාර් පටෙල්', 'PERSON'),\n",
              "  ('සූර්යකුමාර්', 'PERSON'),\n",
              "  ('සූර්යකුමාර් යාදව්', 'PERSON')},\n",
              " {('ඉන්දියාවට', 'LOCATION'), ('දසුන්ගෙ', 'PERSON'), ('දසුන්ගෙන්', 'PERSON')}]"
            ]
          },
          "metadata": {},
          "execution_count": 73
        }
      ]
    },
    {
      "cell_type": "code",
      "source": [
        "# Create an empty DataFrame with the desired columns\n",
        "columns = ['OBJECT', 'PERSON', 'LOCATION', 'ORGANIZATION', 'DATE', 'TIME']\n",
        "df = pd.DataFrame(columns=columns)"
      ],
      "metadata": {
        "id": "anyVL9Q3XQWi"
      },
      "execution_count": null,
      "outputs": []
    },
    {
      "cell_type": "code",
      "source": [
        "# Iterate through the list of dictionaries and populate the DataFrame\n",
        "for i, obj_set in enumerate(data):\n",
        "  row = {'OBJECT': i + 1}\n",
        "  if i >= len(df):\n",
        "    df = df.append(row, ignore_index=True)\n",
        "\n",
        "    for item, label in obj_set:\n",
        "      if label not in df.columns:\n",
        "        df[label] = ''  # Add the column if it doesn't exist\n",
        "\n",
        "      # Check if there is existing data in the cell\n",
        "      existing_data = df.at[i, label]\n",
        "      if pd.notna(existing_data):\n",
        "        # If there's existing data, append the new value with a comma\n",
        "        df.at[i, label] = f'{existing_data}, {item}'\n",
        "      else:\n",
        "        # If there's no existing data, set the new value directly\n",
        "        df.at[i, label] = item"
      ],
      "metadata": {
        "colab": {
          "base_uri": "https://localhost:8080/"
        },
        "id": "T8c1wZbWZJF_",
        "outputId": "49b3c13a-ecf8-43db-deb9-ef14b0a1cafa"
      },
      "execution_count": null,
      "outputs": [
        {
          "output_type": "stream",
          "name": "stderr",
          "text": [
            "<ipython-input-75-d84a1f490b11>:5: FutureWarning: The frame.append method is deprecated and will be removed from pandas in a future version. Use pandas.concat instead.\n",
            "  df = df.append(row, ignore_index=True)\n",
            "<ipython-input-75-d84a1f490b11>:5: FutureWarning: The frame.append method is deprecated and will be removed from pandas in a future version. Use pandas.concat instead.\n",
            "  df = df.append(row, ignore_index=True)\n",
            "<ipython-input-75-d84a1f490b11>:5: FutureWarning: The frame.append method is deprecated and will be removed from pandas in a future version. Use pandas.concat instead.\n",
            "  df = df.append(row, ignore_index=True)\n",
            "<ipython-input-75-d84a1f490b11>:5: FutureWarning: The frame.append method is deprecated and will be removed from pandas in a future version. Use pandas.concat instead.\n",
            "  df = df.append(row, ignore_index=True)\n",
            "<ipython-input-75-d84a1f490b11>:5: FutureWarning: The frame.append method is deprecated and will be removed from pandas in a future version. Use pandas.concat instead.\n",
            "  df = df.append(row, ignore_index=True)\n",
            "<ipython-input-75-d84a1f490b11>:5: FutureWarning: The frame.append method is deprecated and will be removed from pandas in a future version. Use pandas.concat instead.\n",
            "  df = df.append(row, ignore_index=True)\n",
            "<ipython-input-75-d84a1f490b11>:5: FutureWarning: The frame.append method is deprecated and will be removed from pandas in a future version. Use pandas.concat instead.\n",
            "  df = df.append(row, ignore_index=True)\n",
            "<ipython-input-75-d84a1f490b11>:5: FutureWarning: The frame.append method is deprecated and will be removed from pandas in a future version. Use pandas.concat instead.\n",
            "  df = df.append(row, ignore_index=True)\n",
            "<ipython-input-75-d84a1f490b11>:5: FutureWarning: The frame.append method is deprecated and will be removed from pandas in a future version. Use pandas.concat instead.\n",
            "  df = df.append(row, ignore_index=True)\n",
            "<ipython-input-75-d84a1f490b11>:5: FutureWarning: The frame.append method is deprecated and will be removed from pandas in a future version. Use pandas.concat instead.\n",
            "  df = df.append(row, ignore_index=True)\n",
            "<ipython-input-75-d84a1f490b11>:5: FutureWarning: The frame.append method is deprecated and will be removed from pandas in a future version. Use pandas.concat instead.\n",
            "  df = df.append(row, ignore_index=True)\n",
            "<ipython-input-75-d84a1f490b11>:5: FutureWarning: The frame.append method is deprecated and will be removed from pandas in a future version. Use pandas.concat instead.\n",
            "  df = df.append(row, ignore_index=True)\n",
            "<ipython-input-75-d84a1f490b11>:5: FutureWarning: The frame.append method is deprecated and will be removed from pandas in a future version. Use pandas.concat instead.\n",
            "  df = df.append(row, ignore_index=True)\n",
            "<ipython-input-75-d84a1f490b11>:5: FutureWarning: The frame.append method is deprecated and will be removed from pandas in a future version. Use pandas.concat instead.\n",
            "  df = df.append(row, ignore_index=True)\n",
            "<ipython-input-75-d84a1f490b11>:5: FutureWarning: The frame.append method is deprecated and will be removed from pandas in a future version. Use pandas.concat instead.\n",
            "  df = df.append(row, ignore_index=True)\n"
          ]
        }
      ]
    },
    {
      "cell_type": "code",
      "source": [
        "# Fill NaN values with an empty string\n",
        "df = df.fillna('')\n",
        "\n",
        "# Drop duplicate rows based on all columns\n",
        "df = df.drop_duplicates()"
      ],
      "metadata": {
        "id": "eotOQUxEZxky"
      },
      "execution_count": null,
      "outputs": []
    },
    {
      "cell_type": "code",
      "source": [
        "df"
      ],
      "metadata": {
        "colab": {
          "base_uri": "https://localhost:8080/",
          "height": 606
        },
        "id": "h-xBdjm5ZJSb",
        "outputId": "d6a741ee-0418-4463-e360-a5a978808d66"
      },
      "execution_count": null,
      "outputs": [
        {
          "output_type": "execute_result",
          "data": {
            "text/plain": [
              "    OBJECT                                         PERSON  \\\n",
              "0        1                                                  \n",
              "1        2                                                  \n",
              "2        3                              හර්දික් පාණ්ඩ්‍යා   \n",
              "3        4                                                  \n",
              "4        5                 සූර්යකුමාර් යාදව්, සූර්යකුමාර්   \n",
              "5        6              සූර්යකුමාර් යාද්ව්ගේ, සූර්යකුමාර්   \n",
              "6        7                                   ශුබ්මන් ගිල්   \n",
              "7        8                                                  \n",
              "8        9                                                  \n",
              "9       10              දසුන් ශානක, දසුන්, කුසල් මෙන්ඩිස්   \n",
              "10      11                                        දසුන්ගේ   \n",
              "11      12                                                  \n",
              "12      13                                                  \n",
              "13      14  අක්සාර් පටෙල්, සූර්යකුමාර් යාදව්, සූර්යකුමාර්   \n",
              "14      15                             දසුන්ගෙ, දසුන්ගෙන්   \n",
              "\n",
              "                                       LOCATION ORGANIZATION  \\\n",
              "0   ලංකා, ඉන්දීය, ඉන්දියාව, ආසියානු, ශ්‍රී ලංකා                \n",
              "1                  රාජ්කොට් සෞරාෂ්ට්‍ර ක්‍රිකට්                \n",
              "2                                        ඉන්දීය                \n",
              "3                  ඉන්දීය, ලංකාවට, ශ්‍රී ලංකාවට                \n",
              "4                                        ඉන්දීය                \n",
              "5                                                              \n",
              "6                                                              \n",
              "7   ලංකා, ක්‍රීඩා, ඉන්දීය, පිළිතුරු, ශ්‍රී ලංකා     මෙන්ඩිස්   \n",
              "8                      ඉන්දීය, ලංකා, ශ්‍රී ලංකා                \n",
              "9                                                              \n",
              "10                                                             \n",
              "11                                    ඉන්දියාවට                \n",
              "12                ක්‍රීඩකයින්, ලංකා, ශ්‍රී ලංකා                \n",
              "13                                                             \n",
              "14                                    ඉන්දියාවට                \n",
              "\n",
              "                DATE    TIME  \n",
              "0              20/20          \n",
              "1                             \n",
              "2                             \n",
              "3                             \n",
              "4                             \n",
              "5   21.19.60, වාර්තා          \n",
              "6                             \n",
              "7                             \n",
              "8                             \n",
              "9                             \n",
              "10                            \n",
              "11                            \n",
              "12                    පුවරුව  \n",
              "13                            \n",
              "14                            "
            ],
            "text/html": [
              "\n",
              "  <div id=\"df-81fb82d7-153d-4d3a-b878-ff3fe09fe133\" class=\"colab-df-container\">\n",
              "    <div>\n",
              "<style scoped>\n",
              "    .dataframe tbody tr th:only-of-type {\n",
              "        vertical-align: middle;\n",
              "    }\n",
              "\n",
              "    .dataframe tbody tr th {\n",
              "        vertical-align: top;\n",
              "    }\n",
              "\n",
              "    .dataframe thead th {\n",
              "        text-align: right;\n",
              "    }\n",
              "</style>\n",
              "<table border=\"1\" class=\"dataframe\">\n",
              "  <thead>\n",
              "    <tr style=\"text-align: right;\">\n",
              "      <th></th>\n",
              "      <th>OBJECT</th>\n",
              "      <th>PERSON</th>\n",
              "      <th>LOCATION</th>\n",
              "      <th>ORGANIZATION</th>\n",
              "      <th>DATE</th>\n",
              "      <th>TIME</th>\n",
              "    </tr>\n",
              "  </thead>\n",
              "  <tbody>\n",
              "    <tr>\n",
              "      <th>0</th>\n",
              "      <td>1</td>\n",
              "      <td></td>\n",
              "      <td>ලංකා, ඉන්දීය, ඉන්දියාව, ආසියානු, ශ්‍රී ලංකා</td>\n",
              "      <td></td>\n",
              "      <td>20/20</td>\n",
              "      <td></td>\n",
              "    </tr>\n",
              "    <tr>\n",
              "      <th>1</th>\n",
              "      <td>2</td>\n",
              "      <td></td>\n",
              "      <td>රාජ්කොට් සෞරාෂ්ට්‍ර ක්‍රිකට්</td>\n",
              "      <td></td>\n",
              "      <td></td>\n",
              "      <td></td>\n",
              "    </tr>\n",
              "    <tr>\n",
              "      <th>2</th>\n",
              "      <td>3</td>\n",
              "      <td>හර්දික් පාණ්ඩ්‍යා</td>\n",
              "      <td>ඉන්දීය</td>\n",
              "      <td></td>\n",
              "      <td></td>\n",
              "      <td></td>\n",
              "    </tr>\n",
              "    <tr>\n",
              "      <th>3</th>\n",
              "      <td>4</td>\n",
              "      <td></td>\n",
              "      <td>ඉන්දීය, ලංකාවට, ශ්‍රී ලංකාවට</td>\n",
              "      <td></td>\n",
              "      <td></td>\n",
              "      <td></td>\n",
              "    </tr>\n",
              "    <tr>\n",
              "      <th>4</th>\n",
              "      <td>5</td>\n",
              "      <td>සූර්යකුමාර් යාදව්, සූර්යකුමාර්</td>\n",
              "      <td>ඉන්දීය</td>\n",
              "      <td></td>\n",
              "      <td></td>\n",
              "      <td></td>\n",
              "    </tr>\n",
              "    <tr>\n",
              "      <th>5</th>\n",
              "      <td>6</td>\n",
              "      <td>සූර්යකුමාර් යාද්ව්ගේ, සූර්යකුමාර්</td>\n",
              "      <td></td>\n",
              "      <td></td>\n",
              "      <td>21.19.60, වාර්තා</td>\n",
              "      <td></td>\n",
              "    </tr>\n",
              "    <tr>\n",
              "      <th>6</th>\n",
              "      <td>7</td>\n",
              "      <td>ශුබ්මන් ගිල්</td>\n",
              "      <td></td>\n",
              "      <td></td>\n",
              "      <td></td>\n",
              "      <td></td>\n",
              "    </tr>\n",
              "    <tr>\n",
              "      <th>7</th>\n",
              "      <td>8</td>\n",
              "      <td></td>\n",
              "      <td>ලංකා, ක්‍රීඩා, ඉන්දීය, පිළිතුරු, ශ්‍රී ලංකා</td>\n",
              "      <td>මෙන්ඩිස්</td>\n",
              "      <td></td>\n",
              "      <td></td>\n",
              "    </tr>\n",
              "    <tr>\n",
              "      <th>8</th>\n",
              "      <td>9</td>\n",
              "      <td></td>\n",
              "      <td>ඉන්දීය, ලංකා, ශ්‍රී ලංකා</td>\n",
              "      <td></td>\n",
              "      <td></td>\n",
              "      <td></td>\n",
              "    </tr>\n",
              "    <tr>\n",
              "      <th>9</th>\n",
              "      <td>10</td>\n",
              "      <td>දසුන් ශානක, දසුන්, කුසල් මෙන්ඩිස්</td>\n",
              "      <td></td>\n",
              "      <td></td>\n",
              "      <td></td>\n",
              "      <td></td>\n",
              "    </tr>\n",
              "    <tr>\n",
              "      <th>10</th>\n",
              "      <td>11</td>\n",
              "      <td>දසුන්ගේ</td>\n",
              "      <td></td>\n",
              "      <td></td>\n",
              "      <td></td>\n",
              "      <td></td>\n",
              "    </tr>\n",
              "    <tr>\n",
              "      <th>11</th>\n",
              "      <td>12</td>\n",
              "      <td></td>\n",
              "      <td>ඉන්දියාවට</td>\n",
              "      <td></td>\n",
              "      <td></td>\n",
              "      <td></td>\n",
              "    </tr>\n",
              "    <tr>\n",
              "      <th>12</th>\n",
              "      <td>13</td>\n",
              "      <td></td>\n",
              "      <td>ක්‍රීඩකයින්, ලංකා, ශ්‍රී ලංකා</td>\n",
              "      <td></td>\n",
              "      <td></td>\n",
              "      <td>පුවරුව</td>\n",
              "    </tr>\n",
              "    <tr>\n",
              "      <th>13</th>\n",
              "      <td>14</td>\n",
              "      <td>අක්සාර් පටෙල්, සූර්යකුමාර් යාදව්, සූර්යකුමාර්</td>\n",
              "      <td></td>\n",
              "      <td></td>\n",
              "      <td></td>\n",
              "      <td></td>\n",
              "    </tr>\n",
              "    <tr>\n",
              "      <th>14</th>\n",
              "      <td>15</td>\n",
              "      <td>දසුන්ගෙ, දසුන්ගෙන්</td>\n",
              "      <td>ඉන්දියාවට</td>\n",
              "      <td></td>\n",
              "      <td></td>\n",
              "      <td></td>\n",
              "    </tr>\n",
              "  </tbody>\n",
              "</table>\n",
              "</div>\n",
              "    <div class=\"colab-df-buttons\">\n",
              "\n",
              "  <div class=\"colab-df-container\">\n",
              "    <button class=\"colab-df-convert\" onclick=\"convertToInteractive('df-81fb82d7-153d-4d3a-b878-ff3fe09fe133')\"\n",
              "            title=\"Convert this dataframe to an interactive table.\"\n",
              "            style=\"display:none;\">\n",
              "\n",
              "  <svg xmlns=\"http://www.w3.org/2000/svg\" height=\"24px\" viewBox=\"0 -960 960 960\">\n",
              "    <path d=\"M120-120v-720h720v720H120Zm60-500h600v-160H180v160Zm220 220h160v-160H400v160Zm0 220h160v-160H400v160ZM180-400h160v-160H180v160Zm440 0h160v-160H620v160ZM180-180h160v-160H180v160Zm440 0h160v-160H620v160Z\"/>\n",
              "  </svg>\n",
              "    </button>\n",
              "\n",
              "  <style>\n",
              "    .colab-df-container {\n",
              "      display:flex;\n",
              "      gap: 12px;\n",
              "    }\n",
              "\n",
              "    .colab-df-convert {\n",
              "      background-color: #E8F0FE;\n",
              "      border: none;\n",
              "      border-radius: 50%;\n",
              "      cursor: pointer;\n",
              "      display: none;\n",
              "      fill: #1967D2;\n",
              "      height: 32px;\n",
              "      padding: 0 0 0 0;\n",
              "      width: 32px;\n",
              "    }\n",
              "\n",
              "    .colab-df-convert:hover {\n",
              "      background-color: #E2EBFA;\n",
              "      box-shadow: 0px 1px 2px rgba(60, 64, 67, 0.3), 0px 1px 3px 1px rgba(60, 64, 67, 0.15);\n",
              "      fill: #174EA6;\n",
              "    }\n",
              "\n",
              "    .colab-df-buttons div {\n",
              "      margin-bottom: 4px;\n",
              "    }\n",
              "\n",
              "    [theme=dark] .colab-df-convert {\n",
              "      background-color: #3B4455;\n",
              "      fill: #D2E3FC;\n",
              "    }\n",
              "\n",
              "    [theme=dark] .colab-df-convert:hover {\n",
              "      background-color: #434B5C;\n",
              "      box-shadow: 0px 1px 3px 1px rgba(0, 0, 0, 0.15);\n",
              "      filter: drop-shadow(0px 1px 2px rgba(0, 0, 0, 0.3));\n",
              "      fill: #FFFFFF;\n",
              "    }\n",
              "  </style>\n",
              "\n",
              "    <script>\n",
              "      const buttonEl =\n",
              "        document.querySelector('#df-81fb82d7-153d-4d3a-b878-ff3fe09fe133 button.colab-df-convert');\n",
              "      buttonEl.style.display =\n",
              "        google.colab.kernel.accessAllowed ? 'block' : 'none';\n",
              "\n",
              "      async function convertToInteractive(key) {\n",
              "        const element = document.querySelector('#df-81fb82d7-153d-4d3a-b878-ff3fe09fe133');\n",
              "        const dataTable =\n",
              "          await google.colab.kernel.invokeFunction('convertToInteractive',\n",
              "                                                    [key], {});\n",
              "        if (!dataTable) return;\n",
              "\n",
              "        const docLinkHtml = 'Like what you see? Visit the ' +\n",
              "          '<a target=\"_blank\" href=https://colab.research.google.com/notebooks/data_table.ipynb>data table notebook</a>'\n",
              "          + ' to learn more about interactive tables.';\n",
              "        element.innerHTML = '';\n",
              "        dataTable['output_type'] = 'display_data';\n",
              "        await google.colab.output.renderOutput(dataTable, element);\n",
              "        const docLink = document.createElement('div');\n",
              "        docLink.innerHTML = docLinkHtml;\n",
              "        element.appendChild(docLink);\n",
              "      }\n",
              "    </script>\n",
              "  </div>\n",
              "\n",
              "\n",
              "<div id=\"df-09c9beda-0c72-4605-85a7-0c1bbabedcdf\">\n",
              "  <button class=\"colab-df-quickchart\" onclick=\"quickchart('df-09c9beda-0c72-4605-85a7-0c1bbabedcdf')\"\n",
              "            title=\"Suggest charts\"\n",
              "            style=\"display:none;\">\n",
              "\n",
              "<svg xmlns=\"http://www.w3.org/2000/svg\" height=\"24px\"viewBox=\"0 0 24 24\"\n",
              "     width=\"24px\">\n",
              "    <g>\n",
              "        <path d=\"M19 3H5c-1.1 0-2 .9-2 2v14c0 1.1.9 2 2 2h14c1.1 0 2-.9 2-2V5c0-1.1-.9-2-2-2zM9 17H7v-7h2v7zm4 0h-2V7h2v10zm4 0h-2v-4h2v4z\"/>\n",
              "    </g>\n",
              "</svg>\n",
              "  </button>\n",
              "\n",
              "<style>\n",
              "  .colab-df-quickchart {\n",
              "      --bg-color: #E8F0FE;\n",
              "      --fill-color: #1967D2;\n",
              "      --hover-bg-color: #E2EBFA;\n",
              "      --hover-fill-color: #174EA6;\n",
              "      --disabled-fill-color: #AAA;\n",
              "      --disabled-bg-color: #DDD;\n",
              "  }\n",
              "\n",
              "  [theme=dark] .colab-df-quickchart {\n",
              "      --bg-color: #3B4455;\n",
              "      --fill-color: #D2E3FC;\n",
              "      --hover-bg-color: #434B5C;\n",
              "      --hover-fill-color: #FFFFFF;\n",
              "      --disabled-bg-color: #3B4455;\n",
              "      --disabled-fill-color: #666;\n",
              "  }\n",
              "\n",
              "  .colab-df-quickchart {\n",
              "    background-color: var(--bg-color);\n",
              "    border: none;\n",
              "    border-radius: 50%;\n",
              "    cursor: pointer;\n",
              "    display: none;\n",
              "    fill: var(--fill-color);\n",
              "    height: 32px;\n",
              "    padding: 0;\n",
              "    width: 32px;\n",
              "  }\n",
              "\n",
              "  .colab-df-quickchart:hover {\n",
              "    background-color: var(--hover-bg-color);\n",
              "    box-shadow: 0 1px 2px rgba(60, 64, 67, 0.3), 0 1px 3px 1px rgba(60, 64, 67, 0.15);\n",
              "    fill: var(--button-hover-fill-color);\n",
              "  }\n",
              "\n",
              "  .colab-df-quickchart-complete:disabled,\n",
              "  .colab-df-quickchart-complete:disabled:hover {\n",
              "    background-color: var(--disabled-bg-color);\n",
              "    fill: var(--disabled-fill-color);\n",
              "    box-shadow: none;\n",
              "  }\n",
              "\n",
              "  .colab-df-spinner {\n",
              "    border: 2px solid var(--fill-color);\n",
              "    border-color: transparent;\n",
              "    border-bottom-color: var(--fill-color);\n",
              "    animation:\n",
              "      spin 1s steps(1) infinite;\n",
              "  }\n",
              "\n",
              "  @keyframes spin {\n",
              "    0% {\n",
              "      border-color: transparent;\n",
              "      border-bottom-color: var(--fill-color);\n",
              "      border-left-color: var(--fill-color);\n",
              "    }\n",
              "    20% {\n",
              "      border-color: transparent;\n",
              "      border-left-color: var(--fill-color);\n",
              "      border-top-color: var(--fill-color);\n",
              "    }\n",
              "    30% {\n",
              "      border-color: transparent;\n",
              "      border-left-color: var(--fill-color);\n",
              "      border-top-color: var(--fill-color);\n",
              "      border-right-color: var(--fill-color);\n",
              "    }\n",
              "    40% {\n",
              "      border-color: transparent;\n",
              "      border-right-color: var(--fill-color);\n",
              "      border-top-color: var(--fill-color);\n",
              "    }\n",
              "    60% {\n",
              "      border-color: transparent;\n",
              "      border-right-color: var(--fill-color);\n",
              "    }\n",
              "    80% {\n",
              "      border-color: transparent;\n",
              "      border-right-color: var(--fill-color);\n",
              "      border-bottom-color: var(--fill-color);\n",
              "    }\n",
              "    90% {\n",
              "      border-color: transparent;\n",
              "      border-bottom-color: var(--fill-color);\n",
              "    }\n",
              "  }\n",
              "</style>\n",
              "\n",
              "  <script>\n",
              "    async function quickchart(key) {\n",
              "      const quickchartButtonEl =\n",
              "        document.querySelector('#' + key + ' button');\n",
              "      quickchartButtonEl.disabled = true;  // To prevent multiple clicks.\n",
              "      quickchartButtonEl.classList.add('colab-df-spinner');\n",
              "      try {\n",
              "        const charts = await google.colab.kernel.invokeFunction(\n",
              "            'suggestCharts', [key], {});\n",
              "      } catch (error) {\n",
              "        console.error('Error during call to suggestCharts:', error);\n",
              "      }\n",
              "      quickchartButtonEl.classList.remove('colab-df-spinner');\n",
              "      quickchartButtonEl.classList.add('colab-df-quickchart-complete');\n",
              "    }\n",
              "    (() => {\n",
              "      let quickchartButtonEl =\n",
              "        document.querySelector('#df-09c9beda-0c72-4605-85a7-0c1bbabedcdf button');\n",
              "      quickchartButtonEl.style.display =\n",
              "        google.colab.kernel.accessAllowed ? 'block' : 'none';\n",
              "    })();\n",
              "  </script>\n",
              "</div>\n",
              "    </div>\n",
              "  </div>\n"
            ]
          },
          "metadata": {},
          "execution_count": 77
        }
      ]
    },
    {
      "cell_type": "code",
      "source": [
        "df = df.iloc[:, [1, 2, 3, 4, 5]].values"
      ],
      "metadata": {
        "id": "CDz6jdWDZJdX"
      },
      "execution_count": null,
      "outputs": []
    },
    {
      "cell_type": "code",
      "source": [
        "df"
      ],
      "metadata": {
        "colab": {
          "base_uri": "https://localhost:8080/"
        },
        "id": "2O3evKOuZJft",
        "outputId": "eed8db2c-68d8-4df0-a3a6-a101edcdc214"
      },
      "execution_count": null,
      "outputs": [
        {
          "output_type": "execute_result",
          "data": {
            "text/plain": [
              "array([['', 'ලංකා, ඉන්දීය, ඉන්දියාව, ආසියානු, ශ්\\u200dරී ලංකා', '',\n",
              "        '20/20', ''],\n",
              "       ['', 'රාජ්කොට් සෞරාෂ්ට්\\u200dර ක්\\u200dරිකට්', '', '', ''],\n",
              "       ['හර්දික් පාණ්ඩ්\\u200dයා', 'ඉන්දීය', '', '', ''],\n",
              "       ['', 'ඉන්දීය, ලංකාවට, ශ්\\u200dරී ලංකාවට', '', '', ''],\n",
              "       ['සූර්යකුමාර් යාදව්, සූර්යකුමාර්', 'ඉන්දීය', '', '', ''],\n",
              "       ['සූර්යකුමාර් යාද්ව්ගේ, සූර්යකුමාර්', '', '', '21.19.60, වාර්තා',\n",
              "        ''],\n",
              "       ['ශුබ්මන් ගිල්', '', '', '', ''],\n",
              "       ['', 'ලංකා, ක්\\u200dරීඩා, ඉන්දීය, පිළිතුරු, ශ්\\u200dරී ලංකා',\n",
              "        'මෙන්ඩිස්', '', ''],\n",
              "       ['', 'ඉන්දීය, ලංකා, ශ්\\u200dරී ලංකා', '', '', ''],\n",
              "       ['දසුන් ශානක, දසුන්, කුසල් මෙන්ඩිස්', '', '', '', ''],\n",
              "       ['දසුන්ගේ', '', '', '', ''],\n",
              "       ['', 'ඉන්දියාවට', '', '', ''],\n",
              "       ['', 'ක්\\u200dරීඩකයින්, ලංකා, ශ්\\u200dරී ලංකා', '', '', 'පුවරුව'],\n",
              "       ['අක්සාර් පටෙල්, සූර්යකුමාර් යාදව්, සූර්යකුමාර්', '', '', '', ''],\n",
              "       ['දසුන්ගෙ, දසුන්ගෙන්', 'ඉන්දියාවට', '', '', '']], dtype=object)"
            ]
          },
          "metadata": {},
          "execution_count": 80
        }
      ]
    },
    {
      "cell_type": "code",
      "source": [],
      "metadata": {
        "id": "b2_isQbEZJh8"
      },
      "execution_count": null,
      "outputs": []
    },
    {
      "cell_type": "code",
      "source": [],
      "metadata": {
        "id": "GlkG-F1nZJkF"
      },
      "execution_count": null,
      "outputs": []
    },
    {
      "cell_type": "code",
      "source": [],
      "metadata": {
        "id": "eFpS39KgZJni"
      },
      "execution_count": null,
      "outputs": []
    },
    {
      "cell_type": "code",
      "source": [
        "from sklearn.feature_extraction.text import TfidfVectorizer"
      ],
      "metadata": {
        "id": "aR8Y0HzCU4tN"
      },
      "execution_count": null,
      "outputs": []
    },
    {
      "cell_type": "code",
      "source": [
        "# Extracting the first element from each set\n",
        "named_entities_lists = [\n",
        "  [next(iter(s)) for s in sublist] for sublist in data\n",
        "]"
      ],
      "metadata": {
        "id": "6RO_bOV9VWvE"
      },
      "execution_count": null,
      "outputs": []
    },
    {
      "cell_type": "code",
      "source": [
        "named_entities_lists"
      ],
      "metadata": {
        "colab": {
          "base_uri": "https://localhost:8080/"
        },
        "id": "hXEJwIddViCX",
        "outputId": "c55b3a3b-ab19-4b86-a114-280cedbb9073"
      },
      "execution_count": null,
      "outputs": [
        {
          "output_type": "execute_result",
          "data": {
            "text/plain": [
              "[['ලංකා', '20/20', 'ඉන්දීය', 'ඉන්දියාව', 'ආසියානු', 'ශ්\\u200dරී ලංකා'],\n",
              " ['රාජ්කොට් සෞරාෂ්ට්\\u200dර ක්\\u200dරිකට්'],\n",
              " ['ඉන්දීය', 'හර්දික් පාණ්ඩ්\\u200dයා'],\n",
              " ['ඉන්දීය', 'ලංකාවට', 'ශ්\\u200dරී ලංකාවට'],\n",
              " ['සූර්යකුමාර් යාදව්', 'ඉන්දීය', 'සූර්යකුමාර්'],\n",
              " ['සූර්යකුමාර් යාද්ව්ගේ', '21.19.60', 'වාර්තා', 'සූර්යකුමාර්'],\n",
              " ['ශුබ්මන් ගිල්'],\n",
              " ['ලංකා', 'ක්\\u200dරීඩා', 'මෙන්ඩිස්', 'ඉන්දීය', 'පිළිතුරු', 'ශ්\\u200dරී ලංකා'],\n",
              " ['ඉන්දීය', 'ලංකා', 'ශ්\\u200dරී ලංකා'],\n",
              " ['දසුන් ශානක', 'දසුන්', 'කුසල් මෙන්ඩිස්'],\n",
              " ['දසුන්ගේ'],\n",
              " ['ඉන්දියාවට'],\n",
              " ['ක්\\u200dරීඩකයින්', 'ලංකා', 'පුවරුව', 'ශ්\\u200dරී ලංකා'],\n",
              " ['අක්සාර් පටෙල්', 'සූර්යකුමාර් යාදව්', 'සූර්යකුමාර්'],\n",
              " ['දසුන්ගෙ', 'ඉන්දියාවට', 'දසුන්ගෙන්']]"
            ]
          },
          "metadata": {},
          "execution_count": 6
        }
      ]
    },
    {
      "cell_type": "code",
      "source": [
        "# Combine into one array\n",
        "combined_list_NEs = []\n",
        "for inner_list in named_entities_lists:\n",
        "    combined_list_NEs.extend(inner_list)"
      ],
      "metadata": {
        "id": "bq8Nd9WjVntN"
      },
      "execution_count": null,
      "outputs": []
    },
    {
      "cell_type": "code",
      "source": [
        "combined_list_NEs"
      ],
      "metadata": {
        "colab": {
          "base_uri": "https://localhost:8080/"
        },
        "id": "t2LlM8GxVvuq",
        "outputId": "8ca0830c-6af9-4b63-b64e-3304b9efcbfc"
      },
      "execution_count": null,
      "outputs": [
        {
          "output_type": "execute_result",
          "data": {
            "text/plain": [
              "['ලංකා',\n",
              " '20/20',\n",
              " 'ඉන්දීය',\n",
              " 'ඉන්දියාව',\n",
              " 'ආසියානු',\n",
              " 'ශ්\\u200dරී ලංකා',\n",
              " 'රාජ්කොට් සෞරාෂ්ට්\\u200dර ක්\\u200dරිකට්',\n",
              " 'ඉන්දීය',\n",
              " 'හර්දික් පාණ්ඩ්\\u200dයා',\n",
              " 'ඉන්දීය',\n",
              " 'ලංකාවට',\n",
              " 'ශ්\\u200dරී ලංකාවට',\n",
              " 'සූර්යකුමාර් යාදව්',\n",
              " 'ඉන්දීය',\n",
              " 'සූර්යකුමාර්',\n",
              " 'සූර්යකුමාර් යාද්ව්ගේ',\n",
              " '21.19.60',\n",
              " 'වාර්තා',\n",
              " 'සූර්යකුමාර්',\n",
              " 'ශුබ්මන් ගිල්',\n",
              " 'ලංකා',\n",
              " 'ක්\\u200dරීඩා',\n",
              " 'මෙන්ඩිස්',\n",
              " 'ඉන්දීය',\n",
              " 'පිළිතුරු',\n",
              " 'ශ්\\u200dරී ලංකා',\n",
              " 'ඉන්දීය',\n",
              " 'ලංකා',\n",
              " 'ශ්\\u200dරී ලංකා',\n",
              " 'දසුන් ශානක',\n",
              " 'දසුන්',\n",
              " 'කුසල් මෙන්ඩිස්',\n",
              " 'දසුන්ගේ',\n",
              " 'ඉන්දියාවට',\n",
              " 'ක්\\u200dරීඩකයින්',\n",
              " 'ලංකා',\n",
              " 'පුවරුව',\n",
              " 'ශ්\\u200dරී ලංකා',\n",
              " 'අක්සාර් පටෙල්',\n",
              " 'සූර්යකුමාර් යාදව්',\n",
              " 'සූර්යකුමාර්',\n",
              " 'දසුන්ගෙ',\n",
              " 'ඉන්දියාවට',\n",
              " 'දසුන්ගෙන්']"
            ]
          },
          "metadata": {},
          "execution_count": 8
        }
      ]
    },
    {
      "cell_type": "code",
      "source": [
        "tfidf_vectorizer = TfidfVectorizer()\n",
        "tfidf_matrix = tfidf_vectorizer.fit_transform(data)"
      ],
      "metadata": {
        "colab": {
          "base_uri": "https://localhost:8080/",
          "height": 355
        },
        "id": "cIvXVA6cUiPU",
        "outputId": "fe60cd7e-5163-49d6-cd05-bb1c459f0da9"
      },
      "execution_count": null,
      "outputs": [
        {
          "output_type": "error",
          "ename": "AttributeError",
          "evalue": "ignored",
          "traceback": [
            "\u001b[0;31m---------------------------------------------------------------------------\u001b[0m",
            "\u001b[0;31mAttributeError\u001b[0m                            Traceback (most recent call last)",
            "\u001b[0;32m<ipython-input-4-c53be126bf12>\u001b[0m in \u001b[0;36m<cell line: 2>\u001b[0;34m()\u001b[0m\n\u001b[1;32m      1\u001b[0m \u001b[0mtfidf_vectorizer\u001b[0m \u001b[0;34m=\u001b[0m \u001b[0mTfidfVectorizer\u001b[0m\u001b[0;34m(\u001b[0m\u001b[0;34m)\u001b[0m\u001b[0;34m\u001b[0m\u001b[0;34m\u001b[0m\u001b[0m\n\u001b[0;32m----> 2\u001b[0;31m \u001b[0mtfidf_matrix\u001b[0m \u001b[0;34m=\u001b[0m \u001b[0mtfidf_vectorizer\u001b[0m\u001b[0;34m.\u001b[0m\u001b[0mfit_transform\u001b[0m\u001b[0;34m(\u001b[0m\u001b[0mdata\u001b[0m\u001b[0;34m)\u001b[0m\u001b[0;34m\u001b[0m\u001b[0;34m\u001b[0m\u001b[0m\n\u001b[0m",
            "\u001b[0;32m/usr/local/lib/python3.10/dist-packages/sklearn/feature_extraction/text.py\u001b[0m in \u001b[0;36mfit_transform\u001b[0;34m(self, raw_documents, y)\u001b[0m\n\u001b[1;32m   2131\u001b[0m             \u001b[0msublinear_tf\u001b[0m\u001b[0;34m=\u001b[0m\u001b[0mself\u001b[0m\u001b[0;34m.\u001b[0m\u001b[0msublinear_tf\u001b[0m\u001b[0;34m,\u001b[0m\u001b[0;34m\u001b[0m\u001b[0;34m\u001b[0m\u001b[0m\n\u001b[1;32m   2132\u001b[0m         )\n\u001b[0;32m-> 2133\u001b[0;31m         \u001b[0mX\u001b[0m \u001b[0;34m=\u001b[0m \u001b[0msuper\u001b[0m\u001b[0;34m(\u001b[0m\u001b[0;34m)\u001b[0m\u001b[0;34m.\u001b[0m\u001b[0mfit_transform\u001b[0m\u001b[0;34m(\u001b[0m\u001b[0mraw_documents\u001b[0m\u001b[0;34m)\u001b[0m\u001b[0;34m\u001b[0m\u001b[0;34m\u001b[0m\u001b[0m\n\u001b[0m\u001b[1;32m   2134\u001b[0m         \u001b[0mself\u001b[0m\u001b[0;34m.\u001b[0m\u001b[0m_tfidf\u001b[0m\u001b[0;34m.\u001b[0m\u001b[0mfit\u001b[0m\u001b[0;34m(\u001b[0m\u001b[0mX\u001b[0m\u001b[0;34m)\u001b[0m\u001b[0;34m\u001b[0m\u001b[0;34m\u001b[0m\u001b[0m\n\u001b[1;32m   2135\u001b[0m         \u001b[0;31m# X is already a transformed view of raw_documents so\u001b[0m\u001b[0;34m\u001b[0m\u001b[0;34m\u001b[0m\u001b[0m\n",
            "\u001b[0;32m/usr/local/lib/python3.10/dist-packages/sklearn/feature_extraction/text.py\u001b[0m in \u001b[0;36mfit_transform\u001b[0;34m(self, raw_documents, y)\u001b[0m\n\u001b[1;32m   1386\u001b[0m                     \u001b[0;32mbreak\u001b[0m\u001b[0;34m\u001b[0m\u001b[0;34m\u001b[0m\u001b[0m\n\u001b[1;32m   1387\u001b[0m \u001b[0;34m\u001b[0m\u001b[0m\n\u001b[0;32m-> 1388\u001b[0;31m         \u001b[0mvocabulary\u001b[0m\u001b[0;34m,\u001b[0m \u001b[0mX\u001b[0m \u001b[0;34m=\u001b[0m \u001b[0mself\u001b[0m\u001b[0;34m.\u001b[0m\u001b[0m_count_vocab\u001b[0m\u001b[0;34m(\u001b[0m\u001b[0mraw_documents\u001b[0m\u001b[0;34m,\u001b[0m \u001b[0mself\u001b[0m\u001b[0;34m.\u001b[0m\u001b[0mfixed_vocabulary_\u001b[0m\u001b[0;34m)\u001b[0m\u001b[0;34m\u001b[0m\u001b[0;34m\u001b[0m\u001b[0m\n\u001b[0m\u001b[1;32m   1389\u001b[0m \u001b[0;34m\u001b[0m\u001b[0m\n\u001b[1;32m   1390\u001b[0m         \u001b[0;32mif\u001b[0m \u001b[0mself\u001b[0m\u001b[0;34m.\u001b[0m\u001b[0mbinary\u001b[0m\u001b[0;34m:\u001b[0m\u001b[0;34m\u001b[0m\u001b[0;34m\u001b[0m\u001b[0m\n",
            "\u001b[0;32m/usr/local/lib/python3.10/dist-packages/sklearn/feature_extraction/text.py\u001b[0m in \u001b[0;36m_count_vocab\u001b[0;34m(self, raw_documents, fixed_vocab)\u001b[0m\n\u001b[1;32m   1273\u001b[0m         \u001b[0;32mfor\u001b[0m \u001b[0mdoc\u001b[0m \u001b[0;32min\u001b[0m \u001b[0mraw_documents\u001b[0m\u001b[0;34m:\u001b[0m\u001b[0;34m\u001b[0m\u001b[0;34m\u001b[0m\u001b[0m\n\u001b[1;32m   1274\u001b[0m             \u001b[0mfeature_counter\u001b[0m \u001b[0;34m=\u001b[0m \u001b[0;34m{\u001b[0m\u001b[0;34m}\u001b[0m\u001b[0;34m\u001b[0m\u001b[0;34m\u001b[0m\u001b[0m\n\u001b[0;32m-> 1275\u001b[0;31m             \u001b[0;32mfor\u001b[0m \u001b[0mfeature\u001b[0m \u001b[0;32min\u001b[0m \u001b[0manalyze\u001b[0m\u001b[0;34m(\u001b[0m\u001b[0mdoc\u001b[0m\u001b[0;34m)\u001b[0m\u001b[0;34m:\u001b[0m\u001b[0;34m\u001b[0m\u001b[0;34m\u001b[0m\u001b[0m\n\u001b[0m\u001b[1;32m   1276\u001b[0m                 \u001b[0;32mtry\u001b[0m\u001b[0;34m:\u001b[0m\u001b[0;34m\u001b[0m\u001b[0;34m\u001b[0m\u001b[0m\n\u001b[1;32m   1277\u001b[0m                     \u001b[0mfeature_idx\u001b[0m \u001b[0;34m=\u001b[0m \u001b[0mvocabulary\u001b[0m\u001b[0;34m[\u001b[0m\u001b[0mfeature\u001b[0m\u001b[0;34m]\u001b[0m\u001b[0;34m\u001b[0m\u001b[0;34m\u001b[0m\u001b[0m\n",
            "\u001b[0;32m/usr/local/lib/python3.10/dist-packages/sklearn/feature_extraction/text.py\u001b[0m in \u001b[0;36m_analyze\u001b[0;34m(doc, analyzer, tokenizer, ngrams, preprocessor, decoder, stop_words)\u001b[0m\n\u001b[1;32m    109\u001b[0m     \u001b[0;32melse\u001b[0m\u001b[0;34m:\u001b[0m\u001b[0;34m\u001b[0m\u001b[0;34m\u001b[0m\u001b[0m\n\u001b[1;32m    110\u001b[0m         \u001b[0;32mif\u001b[0m \u001b[0mpreprocessor\u001b[0m \u001b[0;32mis\u001b[0m \u001b[0;32mnot\u001b[0m \u001b[0;32mNone\u001b[0m\u001b[0;34m:\u001b[0m\u001b[0;34m\u001b[0m\u001b[0;34m\u001b[0m\u001b[0m\n\u001b[0;32m--> 111\u001b[0;31m             \u001b[0mdoc\u001b[0m \u001b[0;34m=\u001b[0m \u001b[0mpreprocessor\u001b[0m\u001b[0;34m(\u001b[0m\u001b[0mdoc\u001b[0m\u001b[0;34m)\u001b[0m\u001b[0;34m\u001b[0m\u001b[0;34m\u001b[0m\u001b[0m\n\u001b[0m\u001b[1;32m    112\u001b[0m         \u001b[0;32mif\u001b[0m \u001b[0mtokenizer\u001b[0m \u001b[0;32mis\u001b[0m \u001b[0;32mnot\u001b[0m \u001b[0;32mNone\u001b[0m\u001b[0;34m:\u001b[0m\u001b[0;34m\u001b[0m\u001b[0;34m\u001b[0m\u001b[0m\n\u001b[1;32m    113\u001b[0m             \u001b[0mdoc\u001b[0m \u001b[0;34m=\u001b[0m \u001b[0mtokenizer\u001b[0m\u001b[0;34m(\u001b[0m\u001b[0mdoc\u001b[0m\u001b[0;34m)\u001b[0m\u001b[0;34m\u001b[0m\u001b[0;34m\u001b[0m\u001b[0m\n",
            "\u001b[0;32m/usr/local/lib/python3.10/dist-packages/sklearn/feature_extraction/text.py\u001b[0m in \u001b[0;36m_preprocess\u001b[0;34m(doc, accent_function, lower)\u001b[0m\n\u001b[1;32m     67\u001b[0m     \"\"\"\n\u001b[1;32m     68\u001b[0m     \u001b[0;32mif\u001b[0m \u001b[0mlower\u001b[0m\u001b[0;34m:\u001b[0m\u001b[0;34m\u001b[0m\u001b[0;34m\u001b[0m\u001b[0m\n\u001b[0;32m---> 69\u001b[0;31m         \u001b[0mdoc\u001b[0m \u001b[0;34m=\u001b[0m \u001b[0mdoc\u001b[0m\u001b[0;34m.\u001b[0m\u001b[0mlower\u001b[0m\u001b[0;34m(\u001b[0m\u001b[0;34m)\u001b[0m\u001b[0;34m\u001b[0m\u001b[0;34m\u001b[0m\u001b[0m\n\u001b[0m\u001b[1;32m     70\u001b[0m     \u001b[0;32mif\u001b[0m \u001b[0maccent_function\u001b[0m \u001b[0;32mis\u001b[0m \u001b[0;32mnot\u001b[0m \u001b[0;32mNone\u001b[0m\u001b[0;34m:\u001b[0m\u001b[0;34m\u001b[0m\u001b[0;34m\u001b[0m\u001b[0m\n\u001b[1;32m     71\u001b[0m         \u001b[0mdoc\u001b[0m \u001b[0;34m=\u001b[0m \u001b[0maccent_function\u001b[0m\u001b[0;34m(\u001b[0m\u001b[0mdoc\u001b[0m\u001b[0;34m)\u001b[0m\u001b[0;34m\u001b[0m\u001b[0;34m\u001b[0m\u001b[0m\n",
            "\u001b[0;31mAttributeError\u001b[0m: 'set' object has no attribute 'lower'"
          ]
        }
      ]
    },
    {
      "cell_type": "code",
      "source": [],
      "metadata": {
        "id": "HPYLDdxyVHmZ"
      },
      "execution_count": null,
      "outputs": []
    }
  ]
}